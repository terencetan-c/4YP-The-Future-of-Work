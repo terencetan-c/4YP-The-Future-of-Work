{
 "cells": [
  {
   "cell_type": "code",
   "execution_count": 1,
   "metadata": {},
   "outputs": [],
   "source": [
    "import numpy as np\n",
    "import pandas as pd"
   ]
  },
  {
   "cell_type": "code",
   "execution_count": 2,
   "metadata": {},
   "outputs": [],
   "source": [
    "# Read SOC excel files\n",
    "\n",
    "soc2018=pd.read_excel(\"/Users/terencetan/Documents/Uni stuff/Engineering Science/4YP/4YP-The-Future-of-Work/Data/soc_structure_2018.xlsx\", header=7)\n",
    "soc2018_changes = pd.read_excel(\"//Users/terencetan/Documents/Uni stuff/Engineering Science/4YP/4YP-The-Future-of-Work/Data/soc_2018_type_of_change_by_detail_occup.xlsx\", header=8)\n",
    "soc2010=pd.read_excel(\"/Users/terencetan/Documents/Uni stuff/Engineering Science/4YP/4YP-The-Future-of-Work/Data/soc_structure_2010.xls\", header=11)\n",
    "soc2018_dm=pd.read_excel(\"/Users/terencetan/Documents/Uni stuff/Engineering Science/4YP/4YP-The-Future-of-Work/Data/soc_2018_direct_match_title_file.xlsx\",header=7)"
   ]
  },
  {
   "cell_type": "code",
   "execution_count": 3,
   "metadata": {},
   "outputs": [],
   "source": [
    "# Labelling columns and cleaning up\n",
    "\n",
    "\n",
    "soc2018 = soc2018.rename(columns = {'Unnamed: 4':'Occupation'})\n",
    "soc2018_dm=soc2018_dm.drop(columns={'Illustrative Example'})"
   ]
  },
  {
   "cell_type": "code",
   "execution_count": 21,
   "metadata": {},
   "outputs": [],
   "source": [
    "# searchfor = ['C','T']\n",
    "# all_changes2018=soc2018_changes[soc2018_changes['Type of Change'].str.contains('|'.join(searchfor))]"
   ]
  },
  {
   "cell_type": "code",
   "execution_count": 22,
   "metadata": {},
   "outputs": [],
   "source": [
    "# C_changes2018=all_changes2018[~all_changes2018['Type of Change'].str.contains('T')]\n",
    "# T_changes2018=all_changes2018[~all_changes2018['Type of Change'].str.contains('C')]\n",
    "# CT_changes2018=all_changes2018[~all_changes2018['Type of Change'].str.contains('T')]"
   ]
  },
  {
   "cell_type": "code",
   "execution_count": 4,
   "metadata": {},
   "outputs": [],
   "source": [
    "x=soc2018.drop(soc2018[soc2018['Detailed Occupation'].isnull()].index)"
   ]
  },
  {
   "cell_type": "code",
   "execution_count": 5,
   "metadata": {},
   "outputs": [],
   "source": [
    "soc2018_dm['2018 SOC Direct Match Title']=soc2018_dm['2018 SOC Direct Match Title'].str.lower()"
   ]
  },
  {
   "cell_type": "code",
   "execution_count": 6,
   "metadata": {},
   "outputs": [],
   "source": [
    "soc2018['Occupation']=soc2018['Occupation'].str.lower()"
   ]
  },
  {
   "cell_type": "code",
   "execution_count": 7,
   "metadata": {},
   "outputs": [],
   "source": [
    "deleted_soc=pd.read_excel(\"/Users/terencetan/Documents/Uni stuff/Engineering Science/4YP/4YP-The-Future-of-Work/Data/soc_2010_codes_deleted_in_2018.xlsx\",header=7)\n",
    "deleted_soc['2010 SOC Title']=deleted_soc['2010 SOC Title'].str.lower()"
   ]
  },
  {
   "cell_type": "code",
   "execution_count": 132,
   "metadata": {},
   "outputs": [],
   "source": [
    "# Reading in all the datasets from 2011-2021\n",
    "\n",
    "df2021=pd.read_excel(\"/Users/terencetan/Documents/Uni stuff/Engineering Science/4YP/4YP-The-Future-of-Work/Data/Age/cpsaat11b2021.xlsx\",header=5)\n",
    "df2020=pd.read_excel(\"/Users/terencetan/Documents/Uni stuff/Engineering Science/4YP/4YP-The-Future-of-Work/Data/Age/cpsaat11b2020.xlsx\",header=5)\n",
    "df2019=pd.read_excel(\"/Users/terencetan/Documents/Uni stuff/Engineering Science/4YP/4YP-The-Future-of-Work/Data/Age/cpsaat11b2019.xlsx\",header=5)\n",
    "df2018=pd.read_excel(\"/Users/terencetan/Documents/Uni stuff/Engineering Science/4YP/4YP-The-Future-of-Work/Data/Age/cpsaat11b2018.xlsx\",header=5)\n",
    "df2017=pd.read_excel(\"/Users/terencetan/Documents/Uni stuff/Engineering Science/4YP/4YP-The-Future-of-Work/Data/Age/cpsaat11b2017.xlsx\",header=5)\n",
    "df2016=pd.read_excel(\"/Users/terencetan/Documents/Uni stuff/Engineering Science/4YP/4YP-The-Future-of-Work/Data/Age/cpsaat11b2016.xlsx\",header=5)\n",
    "df2015=pd.read_excel(\"/Users/terencetan/Documents/Uni stuff/Engineering Science/4YP/4YP-The-Future-of-Work/Data/Age/cpsaat11b2015.xlsx\",header=5)\n",
    "df2014=pd.read_excel(\"/Users/terencetan/Documents/Uni stuff/Engineering Science/4YP/4YP-The-Future-of-Work/Data/Age/cpsaat11b2014.xlsx\",header=5)\n",
    "df2013=pd.read_excel(\"/Users/terencetan/Documents/Uni stuff/Engineering Science/4YP/4YP-The-Future-of-Work/Data/Age/cpsaat11b2013.xlsx\",header=5)\n",
    "df2012=pd.read_excel(\"/Users/terencetan/Documents/Uni stuff/Engineering Science/4YP/4YP-The-Future-of-Work/Data/Age/cpsaat11b2012.xlsx\",header=5)\n",
    "df2011=pd.read_excel(\"/Users/terencetan/Documents/Uni stuff/Engineering Science/4YP/4YP-The-Future-of-Work/Data/Age/cpsaat11b2011.xlsx\",header=5)"
   ]
  },
  {
   "cell_type": "code",
   "execution_count": 133,
   "metadata": {},
   "outputs": [],
   "source": [
    "# Add in the years and rename the columns\n",
    "\n",
    "df2021['Unnamed: 10'] = 2021\n",
    "df2020['Unnamed: 10'] = 2020\n",
    "df2019['Unnamed: 10'] = 2019\n",
    "df2018['Unnamed: 10'] = 2018\n",
    "df2017['Unnamed: 10'] = 2017\n",
    "df2016['Unnamed: 10'] = 2016\n",
    "df2015['Unnamed: 10'] = 2015\n",
    "df2014['Unnamed: 10'] = 2014\n",
    "df2013['Unnamed: 10'] = 2013\n",
    "df2012['Unnamed: 10'] = 2012\n",
    "df2011['Unnamed: 10'] = 2011\n",
    "\n",
    "\n",
    "df=pd.concat([df2021,df2020,df2019,df2018,df2017,df2016,df2015,df2014,df2013,df2012,df2011])\n",
    "\n",
    "df = df.rename(columns={'Unnamed: 0':'Occupation','Unnamed: 1':'Total','Unnamed: 2':'16-19','Unnamed: 3':'20-24','Unnamed: 4':'25-34','Unnamed: 5':'35-44','Unnamed: 6':'45-54','Unnamed: 7':'55-64','Unnamed: 8':'65<=','Unnamed: 9':'Median age','Unnamed: 10':'Year'})\n"
   ]
  },
  {
   "cell_type": "code",
   "execution_count": 134,
   "metadata": {},
   "outputs": [],
   "source": [
    "# Drop redundant rows, eg. blank rows\n",
    "df.reset_index(drop=True, inplace=True)     # Reset index to ensure the correct rows are dropped\n",
    "df=df.drop(index=df.groupby('Year').head(2).index)\n",
    "df=df.drop(index=df.groupby('Year').tail(2).index)\n",
    "df=df[df['Occupation'].notnull()]\n",
    "df.reset_index(drop=True, inplace=True)"
   ]
  },
  {
   "cell_type": "code",
   "execution_count": 135,
   "metadata": {},
   "outputs": [],
   "source": [
    "# Standardize all occupations to lowercase and remove double spaces\n",
    "\n",
    "df['Occupation'] = df['Occupation'].str.lower()\n",
    "df['Occupation']=df['Occupation'].str.replace(r'\\s+', ' ', regex=True)\n"
   ]
  },
  {
   "cell_type": "code",
   "execution_count": 12,
   "metadata": {},
   "outputs": [],
   "source": [
    "# count=df.groupby(df['Occupation'].str.lower())['Occupation'].agg('count')"
   ]
  },
  {
   "cell_type": "code",
   "execution_count": 13,
   "metadata": {},
   "outputs": [],
   "source": [
    "soc2018['Occupation']=soc2018['Occupation'].str.lower()"
   ]
  },
  {
   "cell_type": "code",
   "execution_count": 86,
   "metadata": {},
   "outputs": [],
   "source": [
    "# joint = pd.merge(left = df[df['Year']==2018], \n",
    "#          right = soc2018,\n",
    "#         how= 'left',\n",
    "#         left_on='Occupation',\n",
    "#         right_on='Occupation',\n",
    "#         indicator=True)"
   ]
  },
  {
   "cell_type": "code",
   "execution_count": 85,
   "metadata": {},
   "outputs": [],
   "source": [
    "# joint"
   ]
  },
  {
   "cell_type": "code",
   "execution_count": 84,
   "metadata": {},
   "outputs": [],
   "source": [
    "# not_duplicate=joint[~joint.duplicated(['Occupation'],keep=False)]\n",
    "# duplicate=joint[joint.duplicated(['Occupation'],keep=False)]"
   ]
  },
  {
   "cell_type": "code",
   "execution_count": 83,
   "metadata": {},
   "outputs": [],
   "source": [
    "# duplicate"
   ]
  },
  {
   "cell_type": "code",
   "execution_count": 68,
   "metadata": {},
   "outputs": [],
   "source": [
    "# duplicate[duplicate.duplicated(['Occupation'])]"
   ]
  },
  {
   "cell_type": "code",
   "execution_count": 69,
   "metadata": {},
   "outputs": [],
   "source": [
    "# duplicate['Broad Group']=duplicate['Broad Group'].ffill()"
   ]
  },
  {
   "cell_type": "code",
   "execution_count": 70,
   "metadata": {},
   "outputs": [],
   "source": [
    "# duplicate.groupby(duplicate['Occupation']).head(0)['Detailed Occupation'].fillna(duplicate.groupby(duplicate['Occupation']).tail(0)['Detailed Occupation'])"
   ]
  },
  {
   "cell_type": "code",
   "execution_count": 71,
   "metadata": {},
   "outputs": [],
   "source": [
    "# not_duplicate[not_duplicate['_merge']=='both']"
   ]
  },
  {
   "cell_type": "code",
   "execution_count": 72,
   "metadata": {},
   "outputs": [],
   "source": [
    "# joint[joint['_merge']=='left_only']"
   ]
  },
  {
   "cell_type": "code",
   "execution_count": 73,
   "metadata": {},
   "outputs": [],
   "source": [
    "# joint[joint['_merge']=='right_only']"
   ]
  },
  {
   "cell_type": "markdown",
   "metadata": {},
   "source": [
    "2011-2019 have the same number of occupations (and presumably the same list of occupations): 572. Meanwhile 2020-2021 have 602 rows."
   ]
  },
  {
   "cell_type": "code",
   "execution_count": 339,
   "metadata": {},
   "outputs": [],
   "source": [
    "# joint[joint['_merge']=='both']"
   ]
  },
  {
   "cell_type": "code",
   "execution_count": 96,
   "metadata": {},
   "outputs": [],
   "source": [
    "# df.groupby('Year').agg('count')"
   ]
  },
  {
   "cell_type": "code",
   "execution_count": 101,
   "metadata": {},
   "outputs": [],
   "source": [
    "joint_deleted = pd.merge(left = df[df['Year']!=2021|2020], \n",
    "         right = deleted_soc,\n",
    "        how= 'inner',\n",
    "        left_on='Occupation',\n",
    "        right_on='2010 SOC Title',\n",
    "        indicator=True)"
   ]
  },
  {
   "cell_type": "code",
   "execution_count": 102,
   "metadata": {},
   "outputs": [
    {
     "data": {
      "text/html": [
       "<div>\n",
       "<style scoped>\n",
       "    .dataframe tbody tr th:only-of-type {\n",
       "        vertical-align: middle;\n",
       "    }\n",
       "\n",
       "    .dataframe tbody tr th {\n",
       "        vertical-align: top;\n",
       "    }\n",
       "\n",
       "    .dataframe thead th {\n",
       "        text-align: right;\n",
       "    }\n",
       "</style>\n",
       "<table border=\"1\" class=\"dataframe\">\n",
       "  <thead>\n",
       "    <tr style=\"text-align: right;\">\n",
       "      <th></th>\n",
       "      <th>Occupation</th>\n",
       "      <th>Total</th>\n",
       "      <th>16-19</th>\n",
       "      <th>20-24</th>\n",
       "      <th>25-34</th>\n",
       "      <th>35-44</th>\n",
       "      <th>45-54</th>\n",
       "      <th>55-64</th>\n",
       "      <th>65&lt;=</th>\n",
       "      <th>Median age</th>\n",
       "      <th>Year</th>\n",
       "      <th>2010 SOC Group</th>\n",
       "      <th>2010 SOC Code</th>\n",
       "      <th>2010 SOC Title</th>\n",
       "      <th>_merge</th>\n",
       "    </tr>\n",
       "  </thead>\n",
       "  <tbody>\n",
       "    <tr>\n",
       "      <th>0</th>\n",
       "      <td>public relations and fundraising managers</td>\n",
       "      <td>95.0</td>\n",
       "      <td>0.0</td>\n",
       "      <td>4.0</td>\n",
       "      <td>21.0</td>\n",
       "      <td>29.0</td>\n",
       "      <td>20.0</td>\n",
       "      <td>17.0</td>\n",
       "      <td>4.0</td>\n",
       "      <td>43</td>\n",
       "      <td>2020</td>\n",
       "      <td>Detailed</td>\n",
       "      <td>11-2031</td>\n",
       "      <td>public relations and fundraising managers</td>\n",
       "      <td>both</td>\n",
       "    </tr>\n",
       "    <tr>\n",
       "      <th>1</th>\n",
       "      <td>public relations and fundraising managers</td>\n",
       "      <td>73.0</td>\n",
       "      <td>0.0</td>\n",
       "      <td>2.0</td>\n",
       "      <td>19.0</td>\n",
       "      <td>12.0</td>\n",
       "      <td>17.0</td>\n",
       "      <td>19.0</td>\n",
       "      <td>4.0</td>\n",
       "      <td>44.8</td>\n",
       "      <td>2019</td>\n",
       "      <td>Detailed</td>\n",
       "      <td>11-2031</td>\n",
       "      <td>public relations and fundraising managers</td>\n",
       "      <td>both</td>\n",
       "    </tr>\n",
       "    <tr>\n",
       "      <th>2</th>\n",
       "      <td>public relations and fundraising managers</td>\n",
       "      <td>69.0</td>\n",
       "      <td>0.0</td>\n",
       "      <td>1.0</td>\n",
       "      <td>13.0</td>\n",
       "      <td>19.0</td>\n",
       "      <td>21.0</td>\n",
       "      <td>10.0</td>\n",
       "      <td>6.0</td>\n",
       "      <td>45</td>\n",
       "      <td>2018</td>\n",
       "      <td>Detailed</td>\n",
       "      <td>11-2031</td>\n",
       "      <td>public relations and fundraising managers</td>\n",
       "      <td>both</td>\n",
       "    </tr>\n",
       "    <tr>\n",
       "      <th>3</th>\n",
       "      <td>public relations and fundraising managers</td>\n",
       "      <td>73.0</td>\n",
       "      <td>0.0</td>\n",
       "      <td>2.0</td>\n",
       "      <td>23.0</td>\n",
       "      <td>17.0</td>\n",
       "      <td>17.0</td>\n",
       "      <td>12.0</td>\n",
       "      <td>1.0</td>\n",
       "      <td>41.4</td>\n",
       "      <td>2017</td>\n",
       "      <td>Detailed</td>\n",
       "      <td>11-2031</td>\n",
       "      <td>public relations and fundraising managers</td>\n",
       "      <td>both</td>\n",
       "    </tr>\n",
       "    <tr>\n",
       "      <th>4</th>\n",
       "      <td>public relations and fundraising managers</td>\n",
       "      <td>62.0</td>\n",
       "      <td>0.0</td>\n",
       "      <td>2.0</td>\n",
       "      <td>19.0</td>\n",
       "      <td>17.0</td>\n",
       "      <td>16.0</td>\n",
       "      <td>8.0</td>\n",
       "      <td>1.0</td>\n",
       "      <td>42.8</td>\n",
       "      <td>2016</td>\n",
       "      <td>Detailed</td>\n",
       "      <td>11-2031</td>\n",
       "      <td>public relations and fundraising managers</td>\n",
       "      <td>both</td>\n",
       "    </tr>\n",
       "    <tr>\n",
       "      <th>...</th>\n",
       "      <td>...</td>\n",
       "      <td>...</td>\n",
       "      <td>...</td>\n",
       "      <td>...</td>\n",
       "      <td>...</td>\n",
       "      <td>...</td>\n",
       "      <td>...</td>\n",
       "      <td>...</td>\n",
       "      <td>...</td>\n",
       "      <td>...</td>\n",
       "      <td>...</td>\n",
       "      <td>...</td>\n",
       "      <td>...</td>\n",
       "      <td>...</td>\n",
       "      <td>...</td>\n",
       "    </tr>\n",
       "    <tr>\n",
       "      <th>496</th>\n",
       "      <td>mine shuttle car operators</td>\n",
       "      <td>4.0</td>\n",
       "      <td>0.0</td>\n",
       "      <td>0.0</td>\n",
       "      <td>1.0</td>\n",
       "      <td>1.0</td>\n",
       "      <td>1.0</td>\n",
       "      <td>0.0</td>\n",
       "      <td>0.0</td>\n",
       "      <td>–</td>\n",
       "      <td>2013</td>\n",
       "      <td>Detailed</td>\n",
       "      <td>53-7111</td>\n",
       "      <td>mine shuttle car operators</td>\n",
       "      <td>both</td>\n",
       "    </tr>\n",
       "    <tr>\n",
       "      <th>497</th>\n",
       "      <td>mine shuttle car operators</td>\n",
       "      <td>1.0</td>\n",
       "      <td>0.0</td>\n",
       "      <td>0.0</td>\n",
       "      <td>0.0</td>\n",
       "      <td>1.0</td>\n",
       "      <td>0.0</td>\n",
       "      <td>0.0</td>\n",
       "      <td>0.0</td>\n",
       "      <td>–</td>\n",
       "      <td>2012</td>\n",
       "      <td>Broad</td>\n",
       "      <td>53-7110</td>\n",
       "      <td>mine shuttle car operators</td>\n",
       "      <td>both</td>\n",
       "    </tr>\n",
       "    <tr>\n",
       "      <th>498</th>\n",
       "      <td>mine shuttle car operators</td>\n",
       "      <td>1.0</td>\n",
       "      <td>0.0</td>\n",
       "      <td>0.0</td>\n",
       "      <td>0.0</td>\n",
       "      <td>1.0</td>\n",
       "      <td>0.0</td>\n",
       "      <td>0.0</td>\n",
       "      <td>0.0</td>\n",
       "      <td>–</td>\n",
       "      <td>2012</td>\n",
       "      <td>Detailed</td>\n",
       "      <td>53-7111</td>\n",
       "      <td>mine shuttle car operators</td>\n",
       "      <td>both</td>\n",
       "    </tr>\n",
       "    <tr>\n",
       "      <th>499</th>\n",
       "      <td>mine shuttle car operators</td>\n",
       "      <td>1.0</td>\n",
       "      <td>0.0</td>\n",
       "      <td>0.0</td>\n",
       "      <td>0.0</td>\n",
       "      <td>0.0</td>\n",
       "      <td>0.0</td>\n",
       "      <td>1.0</td>\n",
       "      <td>0.0</td>\n",
       "      <td>–</td>\n",
       "      <td>2011</td>\n",
       "      <td>Broad</td>\n",
       "      <td>53-7110</td>\n",
       "      <td>mine shuttle car operators</td>\n",
       "      <td>both</td>\n",
       "    </tr>\n",
       "    <tr>\n",
       "      <th>500</th>\n",
       "      <td>mine shuttle car operators</td>\n",
       "      <td>1.0</td>\n",
       "      <td>0.0</td>\n",
       "      <td>0.0</td>\n",
       "      <td>0.0</td>\n",
       "      <td>0.0</td>\n",
       "      <td>0.0</td>\n",
       "      <td>1.0</td>\n",
       "      <td>0.0</td>\n",
       "      <td>–</td>\n",
       "      <td>2011</td>\n",
       "      <td>Detailed</td>\n",
       "      <td>53-7111</td>\n",
       "      <td>mine shuttle car operators</td>\n",
       "      <td>both</td>\n",
       "    </tr>\n",
       "  </tbody>\n",
       "</table>\n",
       "<p>501 rows × 15 columns</p>\n",
       "</div>"
      ],
      "text/plain": [
       "                                    Occupation  Total  16-19  20-24  25-34  \\\n",
       "0    public relations and fundraising managers   95.0    0.0    4.0   21.0   \n",
       "1    public relations and fundraising managers   73.0    0.0    2.0   19.0   \n",
       "2    public relations and fundraising managers   69.0    0.0    1.0   13.0   \n",
       "3    public relations and fundraising managers   73.0    0.0    2.0   23.0   \n",
       "4    public relations and fundraising managers   62.0    0.0    2.0   19.0   \n",
       "..                                         ...    ...    ...    ...    ...   \n",
       "496                 mine shuttle car operators    4.0    0.0    0.0    1.0   \n",
       "497                 mine shuttle car operators    1.0    0.0    0.0    0.0   \n",
       "498                 mine shuttle car operators    1.0    0.0    0.0    0.0   \n",
       "499                 mine shuttle car operators    1.0    0.0    0.0    0.0   \n",
       "500                 mine shuttle car operators    1.0    0.0    0.0    0.0   \n",
       "\n",
       "     35-44  45-54  55-64  65<= Median age  Year 2010 SOC Group 2010 SOC Code  \\\n",
       "0     29.0   20.0   17.0   4.0         43  2020       Detailed       11-2031   \n",
       "1     12.0   17.0   19.0   4.0       44.8  2019       Detailed       11-2031   \n",
       "2     19.0   21.0   10.0   6.0         45  2018       Detailed       11-2031   \n",
       "3     17.0   17.0   12.0   1.0       41.4  2017       Detailed       11-2031   \n",
       "4     17.0   16.0    8.0   1.0       42.8  2016       Detailed       11-2031   \n",
       "..     ...    ...    ...   ...        ...   ...            ...           ...   \n",
       "496    1.0    1.0    0.0   0.0          –  2013       Detailed       53-7111   \n",
       "497    1.0    0.0    0.0   0.0          –  2012          Broad       53-7110   \n",
       "498    1.0    0.0    0.0   0.0          –  2012       Detailed       53-7111   \n",
       "499    0.0    0.0    1.0   0.0          –  2011          Broad       53-7110   \n",
       "500    0.0    0.0    1.0   0.0          –  2011       Detailed       53-7111   \n",
       "\n",
       "                                2010 SOC Title _merge  \n",
       "0    public relations and fundraising managers   both  \n",
       "1    public relations and fundraising managers   both  \n",
       "2    public relations and fundraising managers   both  \n",
       "3    public relations and fundraising managers   both  \n",
       "4    public relations and fundraising managers   both  \n",
       "..                                         ...    ...  \n",
       "496                 mine shuttle car operators   both  \n",
       "497                 mine shuttle car operators   both  \n",
       "498                 mine shuttle car operators   both  \n",
       "499                 mine shuttle car operators   both  \n",
       "500                 mine shuttle car operators   both  \n",
       "\n",
       "[501 rows x 15 columns]"
      ]
     },
     "execution_count": 102,
     "metadata": {},
     "output_type": "execute_result"
    }
   ],
   "source": [
    "joint_deleted"
   ]
  },
  {
   "cell_type": "code",
   "execution_count": 23,
   "metadata": {},
   "outputs": [],
   "source": [
    "joint = pd.merge(left = df[df['Year']==2021], \n",
    "         right = df[df['Year']==2018],\n",
    "        how= 'outer',\n",
    "        left_on='Occupation',\n",
    "        right_on='Occupation',\n",
    "        indicator=True)"
   ]
  },
  {
   "cell_type": "code",
   "execution_count": 137,
   "metadata": {},
   "outputs": [],
   "source": [
    "# joint[joint['_merge']=='left_only'].to_excel('Compare2.xlsx', sheet_name='2021')"
   ]
  },
  {
   "cell_type": "code",
   "execution_count": 138,
   "metadata": {},
   "outputs": [],
   "source": [
    "# joint[joint['_merge']=='right_only'].to_excel('Compare.xlsx', sheet_name='2018')"
   ]
  },
  {
   "cell_type": "markdown",
   "metadata": {},
   "source": [
    "Import Changes.xlsx"
   ]
  },
  {
   "cell_type": "code",
   "execution_count": 200,
   "metadata": {},
   "outputs": [],
   "source": [
    "changes2010=pd.read_excel(\"/Users/terencetan/Documents/Uni stuff/Engineering Science/4YP/4YP-The-Future-of-Work/Data cleaning/Changes.xlsx\",sheet_name=0)\n",
    "changes2018=pd.read_excel(\"/Users/terencetan/Documents/Uni stuff/Engineering Science/4YP/4YP-The-Future-of-Work/Data cleaning/Changes.xlsx\",sheet_name=1)\n"
   ]
  },
  {
   "cell_type": "code",
   "execution_count": 205,
   "metadata": {},
   "outputs": [
    {
     "data": {
      "text/html": [
       "<div>\n",
       "<style scoped>\n",
       "    .dataframe tbody tr th:only-of-type {\n",
       "        vertical-align: middle;\n",
       "    }\n",
       "\n",
       "    .dataframe tbody tr th {\n",
       "        vertical-align: top;\n",
       "    }\n",
       "\n",
       "    .dataframe thead th {\n",
       "        text-align: right;\n",
       "    }\n",
       "</style>\n",
       "<table border=\"1\" class=\"dataframe\">\n",
       "  <thead>\n",
       "    <tr style=\"text-align: right;\">\n",
       "      <th></th>\n",
       "      <th>Occupation</th>\n",
       "      <th>Action</th>\n",
       "      <th>Map to</th>\n",
       "    </tr>\n",
       "  </thead>\n",
       "  <tbody>\n",
       "    <tr>\n",
       "      <th>1</th>\n",
       "      <td>administrative services managers</td>\n",
       "      <td>change</td>\n",
       "      <td>administrative services and facilities managers</td>\n",
       "    </tr>\n",
       "    <tr>\n",
       "      <th>2</th>\n",
       "      <td>education administrators</td>\n",
       "      <td>change</td>\n",
       "      <td>education and childcare administrators</td>\n",
       "    </tr>\n",
       "    <tr>\n",
       "      <th>3</th>\n",
       "      <td>funeral service managers</td>\n",
       "      <td>change</td>\n",
       "      <td>funeral home managers</td>\n",
       "    </tr>\n",
       "    <tr>\n",
       "      <th>4</th>\n",
       "      <td>gaming managers</td>\n",
       "      <td>change</td>\n",
       "      <td>entertainment and recreation managers</td>\n",
       "    </tr>\n",
       "    <tr>\n",
       "      <th>5</th>\n",
       "      <td>appraisers and assessors of real estate</td>\n",
       "      <td>change</td>\n",
       "      <td>property appraisers and assessors</td>\n",
       "    </tr>\n",
       "    <tr>\n",
       "      <th>...</th>\n",
       "      <td>...</td>\n",
       "      <td>...</td>\n",
       "      <td>...</td>\n",
       "    </tr>\n",
       "    <tr>\n",
       "      <th>169</th>\n",
       "      <td>laborers and freight, stock, and material move...</td>\n",
       "      <td>combine but keep</td>\n",
       "      <td>material moving workers</td>\n",
       "    </tr>\n",
       "    <tr>\n",
       "      <th>170</th>\n",
       "      <td>machine feeders and offbearers</td>\n",
       "      <td>combine but keep</td>\n",
       "      <td>material moving workers</td>\n",
       "    </tr>\n",
       "    <tr>\n",
       "      <th>171</th>\n",
       "      <td>packers and packagers, hand</td>\n",
       "      <td>combine but keep</td>\n",
       "      <td>material moving workers</td>\n",
       "    </tr>\n",
       "    <tr>\n",
       "      <th>172</th>\n",
       "      <td>pumping station operators</td>\n",
       "      <td>combine but keep</td>\n",
       "      <td>material moving workers</td>\n",
       "    </tr>\n",
       "    <tr>\n",
       "      <th>173</th>\n",
       "      <td>refuse and recyclable material collectors</td>\n",
       "      <td>combine but keep</td>\n",
       "      <td>material moving workers</td>\n",
       "    </tr>\n",
       "  </tbody>\n",
       "</table>\n",
       "<p>147 rows × 3 columns</p>\n",
       "</div>"
      ],
      "text/plain": [
       "                                            Occupation            Action  \\\n",
       "1                     administrative services managers            change   \n",
       "2                             education administrators            change   \n",
       "3                             funeral service managers            change   \n",
       "4                                      gaming managers            change   \n",
       "5              appraisers and assessors of real estate            change   \n",
       "..                                                 ...               ...   \n",
       "169  laborers and freight, stock, and material move...  combine but keep   \n",
       "170                     machine feeders and offbearers  combine but keep   \n",
       "171                        packers and packagers, hand  combine but keep   \n",
       "172                          pumping station operators  combine but keep   \n",
       "173          refuse and recyclable material collectors  combine but keep   \n",
       "\n",
       "                                              Map to  \n",
       "1    administrative services and facilities managers  \n",
       "2             education and childcare administrators  \n",
       "3                              funeral home managers  \n",
       "4              entertainment and recreation managers  \n",
       "5                  property appraisers and assessors  \n",
       "..                                               ...  \n",
       "169                          material moving workers  \n",
       "170                          material moving workers  \n",
       "171                          material moving workers  \n",
       "172                          material moving workers  \n",
       "173                          material moving workers  \n",
       "\n",
       "[147 rows x 3 columns]"
      ]
     },
     "execution_count": 205,
     "metadata": {},
     "output_type": "execute_result"
    }
   ],
   "source": [
    "changes2010"
   ]
  },
  {
   "cell_type": "code",
   "execution_count": 202,
   "metadata": {},
   "outputs": [],
   "source": [
    "# Remove unwanted columns\n",
    "\n",
    "changes2010.drop(changes2010.columns[[0,2,3,4,5,6,7,8,9,10,11,14]],axis=1,inplace=True)\n",
    "changes2018.drop(changes2018.columns[[0,2,3,4,5,6,7,8,9,10,11,14]],axis=1,inplace=True)\n",
    "\n",
    "# Lower case all strings\n",
    "changes2010['Occupation']=changes2010['Occupation'].str.lower()\n",
    "changes2010['Action']=changes2010['Action'].str.lower()\n",
    "changes2010['Map to']=changes2010['Map to'].str.lower()\n",
    "\n",
    "changes2018['Occupation']=changes2018['Occupation'].str.lower()\n",
    "changes2018['Action']=changes2018['Action'].str.lower()\n",
    "changes2018['Map to']=changes2018['Map to'].str.lower()"
   ]
  },
  {
   "cell_type": "code",
   "execution_count": 203,
   "metadata": {},
   "outputs": [],
   "source": [
    "# Remove all rows with 'Action' == '-' since no action needs to be taken\n",
    "\n",
    "changes2018.drop(index=changes2018[changes2018['Action']=='-'].index,inplace=True)\n",
    "changes2010.drop(index=changes2010[changes2010['Action']=='-'].index,inplace=True)"
   ]
  },
  {
   "cell_type": "markdown",
   "metadata": {},
   "source": [
    "Carry out the 'change' action, i.e. renaming occupations"
   ]
  },
  {
   "cell_type": "code",
   "execution_count": 223,
   "metadata": {},
   "outputs": [],
   "source": [
    "df_test=df.copy()\n",
    "test=changes2018.copy()"
   ]
  },
  {
   "cell_type": "code",
   "execution_count": 252,
   "metadata": {},
   "outputs": [],
   "source": [
    "joint_test = pd.merge(left = df_test[df_test['Year']>2019], \n",
    "         right = test[test['Action']=='change'],\n",
    "        how= 'left',\n",
    "        left_on='Occupation',\n",
    "        right_on='Occupation',)"
   ]
  },
  {
   "cell_type": "code",
   "execution_count": 272,
   "metadata": {},
   "outputs": [],
   "source": [
    "joint_test.loc[joint_test['Action'].notnull(),'Occupation']=joint_test.loc[joint_test['Action'].notnull(),'Map to']"
   ]
  },
  {
   "cell_type": "code",
   "execution_count": 293,
   "metadata": {},
   "outputs": [],
   "source": [
    "# joint_test.loc[joint_test['Action'].notnull()]"
   ]
  },
  {
   "cell_type": "code",
   "execution_count": 288,
   "metadata": {},
   "outputs": [],
   "source": [
    "joint_test.drop(joint_test.columns[[-1,-2]],axis=1,inplace=True)"
   ]
  },
  {
   "cell_type": "code",
   "execution_count": 289,
   "metadata": {},
   "outputs": [],
   "source": [
    "df_test.loc[df_test['Year']>2019]=joint_test"
   ]
  },
  {
   "cell_type": "code",
   "execution_count": 294,
   "metadata": {},
   "outputs": [],
   "source": [
    "# df_test.loc[df_test['Occupation']=='financial specialists, all other']"
   ]
  },
  {
   "cell_type": "code",
   "execution_count": null,
   "metadata": {},
   "outputs": [],
   "source": []
  }
 ],
 "metadata": {
  "kernelspec": {
   "display_name": "Python 3.8.8 ('base')",
   "language": "python",
   "name": "python3"
  },
  "language_info": {
   "codemirror_mode": {
    "name": "ipython",
    "version": 3
   },
   "file_extension": ".py",
   "mimetype": "text/x-python",
   "name": "python",
   "nbconvert_exporter": "python",
   "pygments_lexer": "ipython3",
   "version": "3.8.8"
  },
  "orig_nbformat": 4,
  "vscode": {
   "interpreter": {
    "hash": "e0f300f501840c250db98b6282f016671bffbcd4595f9d980ec8181bf2e3484d"
   }
  }
 },
 "nbformat": 4,
 "nbformat_minor": 2
}
