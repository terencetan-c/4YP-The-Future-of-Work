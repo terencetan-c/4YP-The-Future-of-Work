{
 "cells": [
  {
   "cell_type": "code",
   "execution_count": 2,
   "metadata": {},
   "outputs": [],
   "source": [
    "import numpy as np\n",
    "import pandas as pd\n",
    "import matplotlib.pyplot as plt"
   ]
  },
  {
   "cell_type": "code",
   "execution_count": 3,
   "metadata": {},
   "outputs": [],
   "source": [
    "# Read SOC excel files\n",
    "\n",
    "soc2018=pd.read_excel(\"/Users/terencetan/Documents/Uni stuff/Engineering Science/4YP/4YP-The-Future-of-Work/Data/soc_structure_2018.xlsx\", header=7)\n",
    "soc2018_changes = pd.read_excel(\"//Users/terencetan/Documents/Uni stuff/Engineering Science/4YP/4YP-The-Future-of-Work/Data/soc_2018_type_of_change_by_detail_occup.xlsx\", header=8)\n",
    "soc2010=pd.read_excel(\"/Users/terencetan/Documents/Uni stuff/Engineering Science/4YP/4YP-The-Future-of-Work/Data/soc_structure_2010.xls\", header=11)\n",
    "soc2018_dm=pd.read_excel(\"/Users/terencetan/Documents/Uni stuff/Engineering Science/4YP/4YP-The-Future-of-Work/Data/soc_2018_direct_match_title_file.xlsx\",header=7)"
   ]
  },
  {
   "cell_type": "code",
   "execution_count": 4,
   "metadata": {},
   "outputs": [],
   "source": [
    "# Labelling columns and cleaning up\n",
    "\n",
    "\n",
    "soc2018 = soc2018.rename(columns = {'Unnamed: 4':'Occupation'})\n",
    "soc2018_dm=soc2018_dm.drop(columns={'Illustrative Example'})"
   ]
  },
  {
   "cell_type": "code",
   "execution_count": 5,
   "metadata": {},
   "outputs": [],
   "source": [
    "# soc2018_dm['2018 SOC Direct Match Title']=soc2018_dm['2018 SOC Direct Match Title'].str.lower()"
   ]
  },
  {
   "cell_type": "code",
   "execution_count": 6,
   "metadata": {},
   "outputs": [],
   "source": [
    "soc2018['Occupation']=soc2018['Occupation'].str.lower()"
   ]
  },
  {
   "cell_type": "code",
   "execution_count": 7,
   "metadata": {},
   "outputs": [],
   "source": [
    "# deleted_soc=pd.read_excel(\"/Users/terencetan/Documents/Uni stuff/Engineering Science/4YP/4YP-The-Future-of-Work/Data/soc_2010_codes_deleted_in_2018.xlsx\",header=7)\n",
    "# deleted_soc['2010 SOC Title']=deleted_soc['2010 SOC Title'].str.lower()"
   ]
  },
  {
   "cell_type": "code",
   "execution_count": 8,
   "metadata": {},
   "outputs": [],
   "source": [
    "# Reading in all the datasets from 2011-2021\n",
    "\n",
    "df2021=pd.read_excel(\"/Users/terencetan/Documents/Uni stuff/Engineering Science/4YP/4YP-The-Future-of-Work/Data/Age/cpsaat11b2021.xlsx\",header=5)\n",
    "df2020=pd.read_excel(\"/Users/terencetan/Documents/Uni stuff/Engineering Science/4YP/4YP-The-Future-of-Work/Data/Age/cpsaat11b2020.xlsx\",header=5)\n",
    "df2019=pd.read_excel(\"/Users/terencetan/Documents/Uni stuff/Engineering Science/4YP/4YP-The-Future-of-Work/Data/Age/cpsaat11b2019.xlsx\",header=5)\n",
    "df2018=pd.read_excel(\"/Users/terencetan/Documents/Uni stuff/Engineering Science/4YP/4YP-The-Future-of-Work/Data/Age/cpsaat11b2018.xlsx\",header=5)\n",
    "df2017=pd.read_excel(\"/Users/terencetan/Documents/Uni stuff/Engineering Science/4YP/4YP-The-Future-of-Work/Data/Age/cpsaat11b2017.xlsx\",header=5)\n",
    "df2016=pd.read_excel(\"/Users/terencetan/Documents/Uni stuff/Engineering Science/4YP/4YP-The-Future-of-Work/Data/Age/cpsaat11b2016.xlsx\",header=5)\n",
    "df2015=pd.read_excel(\"/Users/terencetan/Documents/Uni stuff/Engineering Science/4YP/4YP-The-Future-of-Work/Data/Age/cpsaat11b2015.xlsx\",header=5)\n",
    "df2014=pd.read_excel(\"/Users/terencetan/Documents/Uni stuff/Engineering Science/4YP/4YP-The-Future-of-Work/Data/Age/cpsaat11b2014.xlsx\",header=5)\n",
    "df2013=pd.read_excel(\"/Users/terencetan/Documents/Uni stuff/Engineering Science/4YP/4YP-The-Future-of-Work/Data/Age/cpsaat11b2013.xlsx\",header=5)\n",
    "df2012=pd.read_excel(\"/Users/terencetan/Documents/Uni stuff/Engineering Science/4YP/4YP-The-Future-of-Work/Data/Age/cpsaat11b2012.xlsx\",header=5)\n",
    "df2011=pd.read_excel(\"/Users/terencetan/Documents/Uni stuff/Engineering Science/4YP/4YP-The-Future-of-Work/Data/Age/cpsaat11b2011.xlsx\",header=5)"
   ]
  },
  {
   "cell_type": "code",
   "execution_count": 9,
   "metadata": {},
   "outputs": [],
   "source": [
    "# Add in the years and rename the columns\n",
    "\n",
    "df2021['Unnamed: 10'] = 2021\n",
    "df2020['Unnamed: 10'] = 2020\n",
    "df2019['Unnamed: 10'] = 2019\n",
    "df2018['Unnamed: 10'] = 2018\n",
    "df2017['Unnamed: 10'] = 2017\n",
    "df2016['Unnamed: 10'] = 2016\n",
    "df2015['Unnamed: 10'] = 2015\n",
    "df2014['Unnamed: 10'] = 2014\n",
    "df2013['Unnamed: 10'] = 2013\n",
    "df2012['Unnamed: 10'] = 2012\n",
    "df2011['Unnamed: 10'] = 2011\n",
    "\n",
    "\n",
    "df=pd.concat([df2021,df2020,df2019,df2018,df2017,df2016,df2015,df2014,df2013,df2012,df2011])\n",
    "\n",
    "df = df.rename(columns={'Unnamed: 0':'Occupation','Unnamed: 1':'Total','Unnamed: 2':'16-19','Unnamed: 3':'20-24','Unnamed: 4':'25-34','Unnamed: 5':'35-44','Unnamed: 6':'45-54','Unnamed: 7':'55-64','Unnamed: 8':'65<=','Unnamed: 9':'Median age','Unnamed: 10':'Year'})\n"
   ]
  },
  {
   "cell_type": "code",
   "execution_count": 10,
   "metadata": {},
   "outputs": [],
   "source": [
    "# Drop redundant rows, eg. blank rows\n",
    "df.reset_index(drop=True, inplace=True)     # Reset index to ensure the correct rows are dropped\n",
    "df=df.drop(index=df.groupby('Year').head(2).index)\n",
    "df=df.drop(index=df.groupby('Year').tail(2).index)\n",
    "df=df[df['Occupation'].notnull()]\n",
    "df.reset_index(drop=True, inplace=True)"
   ]
  },
  {
   "cell_type": "code",
   "execution_count": 11,
   "metadata": {},
   "outputs": [],
   "source": [
    "# Standardize all occupations to lowercase and remove double spaces\n",
    "\n",
    "df['Occupation'] = df['Occupation'].str.lower()\n",
    "df['Occupation']=df['Occupation'].str.replace(r'\\s+', ' ', regex=True)\n",
    "\n",
    "# Replace en dashes with hyphens\n",
    "\n",
    "df['Median age']=df['Median age'].replace('–','-')\n"
   ]
  },
  {
   "cell_type": "code",
   "execution_count": 12,
   "metadata": {},
   "outputs": [],
   "source": [
    "soc2018['Occupation']=soc2018['Occupation'].str.lower()"
   ]
  },
  {
   "cell_type": "code",
   "execution_count": 13,
   "metadata": {},
   "outputs": [],
   "source": [
    "soc2018.loc[soc2018['Major Group'].notnull(),['Minor Group','Broad Group','Detailed Occupation']]='-'"
   ]
  },
  {
   "cell_type": "code",
   "execution_count": 14,
   "metadata": {},
   "outputs": [],
   "source": [
    "soc2018['Major Group'].ffill(axis=0, inplace=True)"
   ]
  },
  {
   "cell_type": "code",
   "execution_count": 15,
   "metadata": {},
   "outputs": [],
   "source": [
    "soc2018.loc[soc2018['Minor Group'].notnull(),['Broad Group','Detailed Occupation']]='-'"
   ]
  },
  {
   "cell_type": "code",
   "execution_count": 16,
   "metadata": {},
   "outputs": [],
   "source": [
    "soc2018['Minor Group'].ffill(axis=0, inplace=True)"
   ]
  },
  {
   "cell_type": "code",
   "execution_count": 17,
   "metadata": {},
   "outputs": [],
   "source": [
    "soc2018.loc[soc2018['Broad Group'].notnull(),['Detailed Occupation']]='-'"
   ]
  },
  {
   "cell_type": "code",
   "execution_count": 18,
   "metadata": {},
   "outputs": [],
   "source": [
    "soc2018['Broad Group'].ffill(axis=0, inplace=True)"
   ]
  },
  {
   "cell_type": "code",
   "execution_count": 19,
   "metadata": {},
   "outputs": [],
   "source": [
    "# soc2018"
   ]
  },
  {
   "cell_type": "markdown",
   "metadata": {},
   "source": [
    "2011-2019 have the same number of occupations (and presumably the same list of occupations): 572. Meanwhile 2020-2021 have 602 rows."
   ]
  },
  {
   "cell_type": "code",
   "execution_count": 101,
   "metadata": {},
   "outputs": [],
   "source": [
    "joint_deleted = pd.merge(left = df[df['Year']!=2021|2020], \n",
    "         right = deleted_soc,\n",
    "        how= 'inner',\n",
    "        left_on='Occupation',\n",
    "        right_on='2010 SOC Title',\n",
    "        indicator=True)"
   ]
  },
  {
   "cell_type": "code",
   "execution_count": 107,
   "metadata": {},
   "outputs": [],
   "source": [
    "# joint_deleted"
   ]
  },
  {
   "cell_type": "code",
   "execution_count": 23,
   "metadata": {},
   "outputs": [],
   "source": [
    "joint = pd.merge(left = df[df['Year']==2021], \n",
    "         right = df[df['Year']==2018],\n",
    "        how= 'outer',\n",
    "        left_on='Occupation',\n",
    "        right_on='Occupation',\n",
    "        indicator=True)"
   ]
  },
  {
   "cell_type": "markdown",
   "metadata": {},
   "source": [
    "Import Changes.xlsx"
   ]
  },
  {
   "cell_type": "code",
   "execution_count": 20,
   "metadata": {},
   "outputs": [],
   "source": [
    "changes2010=pd.read_excel(\"/Users/terencetan/Documents/Uni stuff/Engineering Science/4YP/4YP-The-Future-of-Work/Data cleaning/Changes.xlsx\",sheet_name=0)\n",
    "changes2018=pd.read_excel(\"/Users/terencetan/Documents/Uni stuff/Engineering Science/4YP/4YP-The-Future-of-Work/Data cleaning/Changes.xlsx\",sheet_name=1)\n"
   ]
  },
  {
   "cell_type": "code",
   "execution_count": 21,
   "metadata": {},
   "outputs": [],
   "source": [
    "# Remove unwanted columns\n",
    "\n",
    "changes2010.drop(changes2010.columns[[0,2,3,4,5,6,7,8,9,10,11,14]],axis=1,inplace=True)\n",
    "changes2018.drop(changes2018.columns[[0,2,3,4,5,6,7,8,9,10,11,14]],axis=1,inplace=True)\n",
    "\n",
    "# Lower case all strings\n",
    "changes2010['Occupation']=changes2010['Occupation'].str.lower()\n",
    "changes2010['Action']=changes2010['Action'].str.lower()\n",
    "changes2010['Map to']=changes2010['Map to'].str.lower()\n",
    "\n",
    "changes2018['Occupation']=changes2018['Occupation'].str.lower()\n",
    "changes2018['Action']=changes2018['Action'].str.lower()\n",
    "changes2018['Map to']=changes2018['Map to'].str.lower()"
   ]
  },
  {
   "cell_type": "code",
   "execution_count": 22,
   "metadata": {},
   "outputs": [],
   "source": [
    "# Remove all rows with 'Action' == '-' since no action needs to be taken\n",
    "\n",
    "changes2018.drop(index=changes2018[changes2018['Action']=='-'].index,inplace=True)\n",
    "changes2010.drop(index=changes2010[changes2010['Action']=='-'].index,inplace=True)"
   ]
  },
  {
   "cell_type": "markdown",
   "metadata": {},
   "source": [
    "Carry out the 'change' action, i.e. renaming occupations"
   ]
  },
  {
   "cell_type": "code",
   "execution_count": 23,
   "metadata": {},
   "outputs": [],
   "source": [
    "df_test=df[df['Year']>2019].copy()      # Rows with year >2019\n",
    "test=changes2018.copy()\n",
    "\n",
    "df_test2=df[df['Year']<2020].copy()     # Rows with year <2020\n",
    "test2=changes2010.copy()"
   ]
  },
  {
   "cell_type": "code",
   "execution_count": 24,
   "metadata": {},
   "outputs": [],
   "source": [
    "# >2019\n",
    "joint_test = pd.merge(left = df_test, \n",
    "         right = test[test['Action']=='change'],\n",
    "        how= 'left',\n",
    "        left_on='Occupation',\n",
    "        right_on='Occupation')\n",
    "\n",
    "\n",
    "joint_test.loc[joint_test['Action'].notnull(),'Occupation']=joint_test.loc[joint_test['Action'].notnull(),'Map to']     # Rename\n",
    "joint_test.drop(joint_test.columns[[-1,-2]],axis=1,inplace=True)        # Drop unnecessary columns\n",
    "\n",
    "\n",
    "\n",
    "# <2020\n",
    "joint_test2 = pd.merge(left = df_test2, \n",
    "         right = test2[test2['Action']=='change'],\n",
    "        how= 'left',\n",
    "        left_on='Occupation',\n",
    "        right_on='Occupation')\n",
    "\n",
    "joint_test2.loc[joint_test2['Action'].notnull(),'Occupation']=joint_test2.loc[joint_test2['Action'].notnull(),'Map to']     # Rename\n",
    "joint_test2.drop(joint_test2.columns[[-1,-2]],axis=1,inplace=True)      # Drop unnecessary columns"
   ]
  },
  {
   "cell_type": "code",
   "execution_count": 25,
   "metadata": {},
   "outputs": [],
   "source": [
    "# Update df\n",
    "\n",
    "df_test=joint_test\n",
    "df_test2=joint_test2\n"
   ]
  },
  {
   "cell_type": "code",
   "execution_count": 26,
   "metadata": {},
   "outputs": [],
   "source": [
    "# Remove 'change' action rows\n",
    "\n",
    "test.drop(test[test['Action']=='change'].index,axis=0,inplace=True)\n",
    "test2.drop(test2[test2['Action']=='change'].index,axis=0,inplace=True)"
   ]
  },
  {
   "cell_type": "code",
   "execution_count": 27,
   "metadata": {},
   "outputs": [],
   "source": [
    "# # <2020\n",
    "# joint_test2 = pd.merge(left = df_test2, \n",
    "#          right = test2[test2['Action']=='change'],\n",
    "#         how= 'left',\n",
    "#         left_on='Occupation',\n",
    "#         right_on='Occupation')\n",
    "\n",
    "# joint_test2.loc[joint_test2['Action'].notnull(),'Occupation']=joint_test2.loc[joint_test2['Action'].notnull(),'Map to']     # Rename\n",
    "# joint_test2[joint_test2['Action']=='combine']"
   ]
  },
  {
   "cell_type": "code",
   "execution_count": 28,
   "metadata": {},
   "outputs": [
    {
     "data": {
      "text/html": [
       "<div>\n",
       "<style scoped>\n",
       "    .dataframe tbody tr th:only-of-type {\n",
       "        vertical-align: middle;\n",
       "    }\n",
       "\n",
       "    .dataframe tbody tr th {\n",
       "        vertical-align: top;\n",
       "    }\n",
       "\n",
       "    .dataframe thead th {\n",
       "        text-align: right;\n",
       "    }\n",
       "</style>\n",
       "<table border=\"1\" class=\"dataframe\">\n",
       "  <thead>\n",
       "    <tr style=\"text-align: right;\">\n",
       "      <th></th>\n",
       "      <th>Occupation</th>\n",
       "      <th>Total</th>\n",
       "      <th>16-19</th>\n",
       "      <th>20-24</th>\n",
       "      <th>25-34</th>\n",
       "      <th>35-44</th>\n",
       "      <th>45-54</th>\n",
       "      <th>55-64</th>\n",
       "      <th>65&lt;=</th>\n",
       "      <th>Median age</th>\n",
       "      <th>Year</th>\n",
       "    </tr>\n",
       "  </thead>\n",
       "  <tbody>\n",
       "    <tr>\n",
       "      <th>0</th>\n",
       "      <td>management, professional, and related occupations</td>\n",
       "      <td>64218.0</td>\n",
       "      <td>428.0</td>\n",
       "      <td>3402.0</td>\n",
       "      <td>15126.0</td>\n",
       "      <td>15133.0</td>\n",
       "      <td>14103.0</td>\n",
       "      <td>11360.0</td>\n",
       "      <td>4665.0</td>\n",
       "      <td>43.8</td>\n",
       "      <td>2019</td>\n",
       "    </tr>\n",
       "    <tr>\n",
       "      <th>1</th>\n",
       "      <td>management, business, and financial operations...</td>\n",
       "      <td>26981.0</td>\n",
       "      <td>82.0</td>\n",
       "      <td>969.0</td>\n",
       "      <td>5529.0</td>\n",
       "      <td>6330.0</td>\n",
       "      <td>6469.0</td>\n",
       "      <td>5394.0</td>\n",
       "      <td>2208.0</td>\n",
       "      <td>45.9</td>\n",
       "      <td>2019</td>\n",
       "    </tr>\n",
       "    <tr>\n",
       "      <th>2</th>\n",
       "      <td>management occupations</td>\n",
       "      <td>18985.0</td>\n",
       "      <td>62.0</td>\n",
       "      <td>536.0</td>\n",
       "      <td>3452.0</td>\n",
       "      <td>4524.0</td>\n",
       "      <td>4731.0</td>\n",
       "      <td>4024.0</td>\n",
       "      <td>1655.0</td>\n",
       "      <td>47</td>\n",
       "      <td>2019</td>\n",
       "    </tr>\n",
       "    <tr>\n",
       "      <th>3</th>\n",
       "      <td>chief executives</td>\n",
       "      <td>1602.0</td>\n",
       "      <td>2.0</td>\n",
       "      <td>5.0</td>\n",
       "      <td>121.0</td>\n",
       "      <td>329.0</td>\n",
       "      <td>461.0</td>\n",
       "      <td>465.0</td>\n",
       "      <td>219.0</td>\n",
       "      <td>52.7</td>\n",
       "      <td>2019</td>\n",
       "    </tr>\n",
       "    <tr>\n",
       "      <th>4</th>\n",
       "      <td>general and operations managers</td>\n",
       "      <td>1058.0</td>\n",
       "      <td>0.0</td>\n",
       "      <td>19.0</td>\n",
       "      <td>258.0</td>\n",
       "      <td>282.0</td>\n",
       "      <td>257.0</td>\n",
       "      <td>196.0</td>\n",
       "      <td>46.0</td>\n",
       "      <td>44.2</td>\n",
       "      <td>2019</td>\n",
       "    </tr>\n",
       "    <tr>\n",
       "      <th>...</th>\n",
       "      <td>...</td>\n",
       "      <td>...</td>\n",
       "      <td>...</td>\n",
       "      <td>...</td>\n",
       "      <td>...</td>\n",
       "      <td>...</td>\n",
       "      <td>...</td>\n",
       "      <td>...</td>\n",
       "      <td>...</td>\n",
       "      <td>...</td>\n",
       "      <td>...</td>\n",
       "    </tr>\n",
       "    <tr>\n",
       "      <th>5071</th>\n",
       "      <td>pumping station operators</td>\n",
       "      <td>21.0</td>\n",
       "      <td>0.0</td>\n",
       "      <td>3.0</td>\n",
       "      <td>6.0</td>\n",
       "      <td>4.0</td>\n",
       "      <td>3.0</td>\n",
       "      <td>5.0</td>\n",
       "      <td>0.0</td>\n",
       "      <td>-</td>\n",
       "      <td>2011</td>\n",
       "    </tr>\n",
       "    <tr>\n",
       "      <th>5072</th>\n",
       "      <td>refuse and recyclable material collectors</td>\n",
       "      <td>92.0</td>\n",
       "      <td>2.0</td>\n",
       "      <td>12.0</td>\n",
       "      <td>22.0</td>\n",
       "      <td>16.0</td>\n",
       "      <td>24.0</td>\n",
       "      <td>12.0</td>\n",
       "      <td>4.0</td>\n",
       "      <td>41.3</td>\n",
       "      <td>2011</td>\n",
       "    </tr>\n",
       "    <tr>\n",
       "      <th>5073</th>\n",
       "      <td>mine shuttle car operators</td>\n",
       "      <td>1.0</td>\n",
       "      <td>0.0</td>\n",
       "      <td>0.0</td>\n",
       "      <td>0.0</td>\n",
       "      <td>0.0</td>\n",
       "      <td>0.0</td>\n",
       "      <td>1.0</td>\n",
       "      <td>0.0</td>\n",
       "      <td>-</td>\n",
       "      <td>2011</td>\n",
       "    </tr>\n",
       "    <tr>\n",
       "      <th>5074</th>\n",
       "      <td>tank car, truck, and ship loaders</td>\n",
       "      <td>3.0</td>\n",
       "      <td>0.0</td>\n",
       "      <td>0.0</td>\n",
       "      <td>0.0</td>\n",
       "      <td>0.0</td>\n",
       "      <td>2.0</td>\n",
       "      <td>0.0</td>\n",
       "      <td>0.0</td>\n",
       "      <td>-</td>\n",
       "      <td>2011</td>\n",
       "    </tr>\n",
       "    <tr>\n",
       "      <th>5075</th>\n",
       "      <td>material moving workers, all other</td>\n",
       "      <td>62.0</td>\n",
       "      <td>3.0</td>\n",
       "      <td>7.0</td>\n",
       "      <td>6.0</td>\n",
       "      <td>19.0</td>\n",
       "      <td>12.0</td>\n",
       "      <td>13.0</td>\n",
       "      <td>2.0</td>\n",
       "      <td>43.1</td>\n",
       "      <td>2011</td>\n",
       "    </tr>\n",
       "  </tbody>\n",
       "</table>\n",
       "<p>5076 rows × 11 columns</p>\n",
       "</div>"
      ],
      "text/plain": [
       "                                             Occupation    Total  16-19  \\\n",
       "0     management, professional, and related occupations  64218.0  428.0   \n",
       "1     management, business, and financial operations...  26981.0   82.0   \n",
       "2                                management occupations  18985.0   62.0   \n",
       "3                                      chief executives   1602.0    2.0   \n",
       "4                       general and operations managers   1058.0    0.0   \n",
       "...                                                 ...      ...    ...   \n",
       "5071                          pumping station operators     21.0    0.0   \n",
       "5072          refuse and recyclable material collectors     92.0    2.0   \n",
       "5073                         mine shuttle car operators      1.0    0.0   \n",
       "5074                  tank car, truck, and ship loaders      3.0    0.0   \n",
       "5075                 material moving workers, all other     62.0    3.0   \n",
       "\n",
       "       20-24    25-34    35-44    45-54    55-64    65<= Median age  Year  \n",
       "0     3402.0  15126.0  15133.0  14103.0  11360.0  4665.0       43.8  2019  \n",
       "1      969.0   5529.0   6330.0   6469.0   5394.0  2208.0       45.9  2019  \n",
       "2      536.0   3452.0   4524.0   4731.0   4024.0  1655.0         47  2019  \n",
       "3        5.0    121.0    329.0    461.0    465.0   219.0       52.7  2019  \n",
       "4       19.0    258.0    282.0    257.0    196.0    46.0       44.2  2019  \n",
       "...      ...      ...      ...      ...      ...     ...        ...   ...  \n",
       "5071     3.0      6.0      4.0      3.0      5.0     0.0          -  2011  \n",
       "5072    12.0     22.0     16.0     24.0     12.0     4.0       41.3  2011  \n",
       "5073     0.0      0.0      0.0      0.0      1.0     0.0          -  2011  \n",
       "5074     0.0      0.0      0.0      2.0      0.0     0.0          -  2011  \n",
       "5075     7.0      6.0     19.0     12.0     13.0     2.0       43.1  2011  \n",
       "\n",
       "[5076 rows x 11 columns]"
      ]
     },
     "execution_count": 28,
     "metadata": {},
     "output_type": "execute_result"
    }
   ],
   "source": [
    "df_test2"
   ]
  },
  {
   "cell_type": "markdown",
   "metadata": {},
   "source": [
    "Carry out 'delete' action"
   ]
  },
  {
   "cell_type": "code",
   "execution_count": 29,
   "metadata": {},
   "outputs": [],
   "source": [
    "# >2019\n",
    "joint_test = pd.merge(left = df_test, \n",
    "         right = test[test['Action']=='delete'],\n",
    "        how= 'left',\n",
    "        left_on='Occupation',\n",
    "        right_on='Occupation',)\n",
    "\n",
    "df_test.drop(index=joint_test[joint_test['Action']=='delete'].index,axis=0,inplace=True)\n",
    "\n",
    "\n",
    "# <2020\n",
    "joint_test2 = pd.merge(left = df_test2, \n",
    "         right = test2[test2['Action']=='delete'],\n",
    "        how= 'left',\n",
    "        left_on='Occupation',\n",
    "        right_on='Occupation',)\n",
    "\n",
    "df_test2.drop(index=joint_test2[joint_test2['Action']=='delete'].index,axis=0,inplace=True)"
   ]
  },
  {
   "cell_type": "code",
   "execution_count": 30,
   "metadata": {},
   "outputs": [],
   "source": [
    "# Remove 'delete' action rows\n",
    "\n",
    "test.drop(test[test['Action']=='delete'].index,axis=0,inplace=True)\n",
    "test2.drop(test2[test2['Action']=='delete'].index,axis=0,inplace=True)"
   ]
  },
  {
   "cell_type": "markdown",
   "metadata": {},
   "source": [
    "Carry out 'combine' and 'combine but keep' actions"
   ]
  },
  {
   "cell_type": "code",
   "execution_count": 31,
   "metadata": {},
   "outputs": [],
   "source": [
    "# >2019\n",
    "joint_test = pd.merge(left = df_test, \n",
    "         right = test,\n",
    "        how= 'left',\n",
    "        left_on='Occupation',\n",
    "        right_on='Occupation')\n",
    "\n",
    "keep=joint_test.loc[joint_test['Action']=='combine but keep'].copy()        # Keep a copy of the 'combine but keep' occupations\n",
    "joint_test.loc[joint_test['Action'].notnull(),'Occupation']=joint_test.loc[joint_test['Action'].notnull(),'Map to']     # Rename occupations to their combined occupations\n",
    "joint_sum=joint_test.loc[joint_test['Action'].notnull()].groupby(['Occupation','Year'],as_index=False).sum()            # Sum up the rows by Occupation and 'Year'\n",
    "joint_test.drop_duplicates(subset=['Occupation','Year'],inplace=True)           # Drop duplicate rows since we are combining\n",
    "\n",
    "x=pd.merge(left=joint_test.loc[joint_test['Action'].notnull(),['Occupation','Year','Action','Map to','Median age']], right=joint_sum,how='left',left_on=['Occupation','Year'],right_on=['Occupation','Year'])  #Combined rows\n",
    "x=x[['Occupation','Total','16-19','20-24','25-34','35-44','45-54','55-64','65<=','Median age','Year','Action','Map to']]        # Re-arrange columns\n",
    "x['Median age']='-'     # Combined rows have no valid 'Median age'\n",
    "\n",
    "y=pd.merge(left=joint_test, right=joint_sum[['Occupation','Year']],how='left',left_on=['Occupation','Year'],right_on=['Occupation','Year'],indicator=True)      # Rows that do not need to be combined\n",
    "\n",
    "z=pd.concat([y[y['_merge']!='both'],x]).drop(columns='_merge')          # Concat x and y\n",
    "z=pd.concat([z,keep])           # Concat x and y with 'combined but keep' rows\n",
    "\n",
    "# <2020\n",
    "joint_test2 = pd.merge(left = df_test2, \n",
    "         right = test2,\n",
    "        how= 'left',\n",
    "        left_on='Occupation',\n",
    "        right_on='Occupation')\n",
    "\n",
    "keep2=joint_test2.loc[joint_test2['Action']=='combine but keep'].copy()        # Keep a copy of the 'combine but keep' occupations\n",
    "joint_test2.loc[joint_test2['Action'].notnull(),'Occupation']=joint_test2.loc[joint_test2['Action'].notnull(),'Map to']     # Rename occupations to their combined occupations\n",
    "joint_sum2=joint_test2.loc[joint_test2['Action'].notnull()].groupby(['Occupation','Year'],as_index=False).sum()            # Sum up the rows by Occupation and 'Year'\n",
    "joint_test2.drop_duplicates(subset=['Occupation','Year'],inplace=True)           # Drop duplicate rows since we are combining\n",
    "\n",
    "x2=pd.merge(left=joint_test2.loc[joint_test2['Action'].notnull(),['Occupation','Year','Action','Map to','Median age']], right=joint_sum2,how='left',left_on=['Occupation','Year'],right_on=['Occupation','Year'])  #Combined rows\n",
    "x2=x2[['Occupation','Total','16-19','20-24','25-34','35-44','45-54','55-64','65<=','Median age','Year','Action','Map to']]        # Re-arrange columns\n",
    "x2['Median age']='-'     # Combined rows have no valid 'Median age'\n",
    "\n",
    "y2=pd.merge(left=joint_test2, right=joint_sum2[['Occupation','Year']],how='left',left_on=['Occupation','Year'],right_on=['Occupation','Year'],indicator=True)      # Rows that do not need to be combined\n",
    "\n",
    "z2=pd.concat([y2[y2['_merge']!='both'],x2]).drop(columns='_merge')          # Concat x and y\n",
    "z2=pd.concat([z2,keep2])           # Concat x and y with 'combined but keep' rows\n"
   ]
  },
  {
   "cell_type": "markdown",
   "metadata": {},
   "source": [
    "Map to 2018 SOC"
   ]
  },
  {
   "cell_type": "code",
   "execution_count": 32,
   "metadata": {},
   "outputs": [],
   "source": [
    "# z2[(z2['Year']==2018)&(z2['Occupation']=='miscellaneous healthcare diagnosing or treating practitioners')]"
   ]
  },
  {
   "cell_type": "code",
   "execution_count": 33,
   "metadata": {},
   "outputs": [],
   "source": [
    "# z2[(z2['Year']==2018)&(z2['Occupation']=='dental hygienists')]"
   ]
  },
  {
   "cell_type": "code",
   "execution_count": 34,
   "metadata": {},
   "outputs": [],
   "source": [
    "# joint_soc=pd.merge(right=soc2018,left=z,how='outer',left_on='Occupation',right_on='Occupation',indicator=True)"
   ]
  },
  {
   "cell_type": "code",
   "execution_count": 35,
   "metadata": {},
   "outputs": [],
   "source": [
    "# joint_soc.drop(columns=['Action','Map to'],inplace=True)"
   ]
  },
  {
   "cell_type": "code",
   "execution_count": 36,
   "metadata": {},
   "outputs": [],
   "source": [
    "# joint_soc[joint_soc['_merge']=='left_only']"
   ]
  },
  {
   "cell_type": "code",
   "execution_count": 37,
   "metadata": {},
   "outputs": [],
   "source": [
    "joint_soc2=pd.merge(right=soc2018,left=z2,how='inner',left_on='Occupation',right_on='Occupation',indicator=True)"
   ]
  },
  {
   "cell_type": "code",
   "execution_count": 38,
   "metadata": {},
   "outputs": [],
   "source": [
    "df_processed = pd.concat([z,z2])"
   ]
  },
  {
   "cell_type": "code",
   "execution_count": 39,
   "metadata": {},
   "outputs": [],
   "source": [
    "joint_processed=pd.merge(left=df_processed,right=soc2018,how='inner',left_on='Occupation',right_on='Occupation',indicator=True)"
   ]
  },
  {
   "cell_type": "markdown",
   "metadata": {},
   "source": [
    "Plots"
   ]
  },
  {
   "cell_type": "code",
   "execution_count": 85,
   "metadata": {},
   "outputs": [],
   "source": [
    "# Detailed Occupation\n",
    "\n",
    "detailed=joint_processed[joint_processed['Detailed Occupation']!='-']\n",
    "detailed_sum=detailed.groupby(['Year']).sum()\n",
    "detailed_sum_arr=detailed_sum['Total'].to_numpy()\n",
    "\n",
    "total=pd.concat([df2021,df2020,df2019,df2018,df2017,df2016,df2015,df2014,df2013,df2012,df2011])\n",
    "\n",
    "total = total.rename(columns={'Unnamed: 0':'Occupation','Unnamed: 1':'Total','Unnamed: 2':'16-19','Unnamed: 3':'20-24','Unnamed: 4':'25-34','Unnamed: 5':'35-44','Unnamed: 6':'45-54','Unnamed: 7':'55-64','Unnamed: 8':'65<=','Unnamed: 9':'Median age','Unnamed: 10':'Year'})\n",
    "\n",
    "# Employed  civilian labour force\n",
    "total_employed_arr=total.loc[total['Occupation']=='Total employed',['Total']].to_numpy()\n",
    "total_employed_arr=np.flip(total_employed_arr)\n",
    "\n",
    "# Total civilian labour force\n",
    "total_arr=np.array([[153617,154975,155389,155922,157130,159187,160320,162075,163539,160742,161204]]).reshape((11,1))\n",
    "\n",
    "\n",
    "detailed_sum_arr=detailed_sum_arr.reshape(-1,1)\n",
    "\n",
    "year=[2011,2012,2013,2014,2015,2016,2017,2018,2019,2020,2021]\n",
    "\n",
    "# plt.bar(year,(detailed_sum_arr/total_arr).reshape(11,))     # Proportion of Detailed occupations wrt total employed\n",
    "# print((detailed_sum_arr/total_arr))"
   ]
  },
  {
   "cell_type": "code",
   "execution_count": 86,
   "metadata": {},
   "outputs": [
    {
     "data": {
      "text/plain": [
       "Text(0, 0.5, 'Ratio')"
      ]
     },
     "execution_count": 86,
     "metadata": {},
     "output_type": "execute_result"
    },
    {
     "data": {
      "image/png": "[encoded data removed]",
      "text/plain": [
       "<Figure size 864x576 with 1 Axes>"
      ]
     },
     "metadata": {
      "needs_background": "light"
     },
     "output_type": "display_data"
    }
   ],
   "source": [
    "# Ratio of 'Detailed Occupation' to US civilian labour force\n",
    "\n",
    "plt.figure(figsize=(12, 8))\n",
    "fig = pd.Series((detailed_sum_arr/total_arr).reshape(11,)).plot(kind='bar')\n",
    "fig.set_xticklabels(year)\n",
    "fig.bar_label(fig.containers[0], label_type='edge')\n",
    "fig.set_title('Ratio of \\'Detailed Occupation\\' to US civilian labour force')\n",
    "fig.set_xlabel('Year')\n",
    "fig.set_ylabel('Ratio')"
   ]
  },
  {
   "cell_type": "code",
   "execution_count": 87,
   "metadata": {},
   "outputs": [
    {
     "data": {
      "text/plain": [
       "Text(0, 0.5, 'Ratio')"
      ]
     },
     "execution_count": 87,
     "metadata": {},
     "output_type": "execute_result"
    },
    {
     "data": {
      "image/png": "[encoded data removed]",
      "text/plain": [
       "<Figure size 864x576 with 1 Axes>"
      ]
     },
     "metadata": {
      "needs_background": "light"
     },
     "output_type": "display_data"
    }
   ],
   "source": [
    "# Ratio of 'Detailed Occupation' to US civilian labour force (employed)\n",
    "\n",
    "plt.figure(figsize=(12, 8))\n",
    "fig = pd.Series((detailed_sum_arr/total_employed_arr).reshape(11,)).plot(kind='bar')\n",
    "fig.set_xticklabels(year)\n",
    "fig.bar_label(fig.containers[0], label_type='edge')\n",
    "fig.set_title('Ratio of \\'Detailed Occupation\\' to US civilian labour force (employed)')\n",
    "fig.set_xlabel('Year')\n",
    "fig.set_ylabel('Ratio')"
   ]
  },
  {
   "cell_type": "code",
   "execution_count": 88,
   "metadata": {},
   "outputs": [],
   "source": [
    "# Major Group\n",
    "\n",
    "major=joint_processed[(joint_processed['Minor Group']=='-')&(joint_processed['Broad Group']=='-')&(joint_processed['Detailed Occupation']=='-')]\n",
    "major_sum=major.groupby(['Year']).sum()\n",
    "major_sum_arr=major_sum['Total'].to_numpy()\n",
    "\n",
    "major_sum_arr=major_sum_arr.reshape(-1,1)\n",
    "\n",
    "# plt.bar(year,(major_sum_arr/total_arr).reshape(11,))     # Proportion of Major Group occupations wrt total employed\n",
    "# print((major_sum_arr/total_arr))"
   ]
  },
  {
   "cell_type": "code",
   "execution_count": 91,
   "metadata": {},
   "outputs": [
    {
     "data": {
      "text/plain": [
       "Text(0, 0.5, 'Ratio')"
      ]
     },
     "execution_count": 91,
     "metadata": {},
     "output_type": "execute_result"
    },
    {
     "data": {
      "image/png": "[encoded data removed]",
      "text/plain": [
       "<Figure size 864x576 with 1 Axes>"
      ]
     },
     "metadata": {
      "needs_background": "light"
     },
     "output_type": "display_data"
    }
   ],
   "source": [
    "# Ratio of 'Major Group' to US civilian labour force\n",
    "\n",
    "plt.figure(figsize=(12, 8))\n",
    "fig = pd.Series((major_sum_arr/total_arr).reshape(11,)).plot(kind='bar')\n",
    "fig.set_xticklabels(year)\n",
    "fig.bar_label(fig.containers[0], label_type='edge')\n",
    "fig.set_title('Ratio of \\'Major Group\\' to US civilian labour force')\n",
    "fig.set_xlabel('Year')\n",
    "fig.set_ylabel('Ratio')"
   ]
  },
  {
   "cell_type": "code",
   "execution_count": 92,
   "metadata": {},
   "outputs": [
    {
     "data": {
      "text/plain": [
       "Text(0, 0.5, 'Ratio')"
      ]
     },
     "execution_count": 92,
     "metadata": {},
     "output_type": "execute_result"
    },
    {
     "data": {
      "image/png": "[encoded data removed]",
      "text/plain": [
       "<Figure size 864x576 with 1 Axes>"
      ]
     },
     "metadata": {
      "needs_background": "light"
     },
     "output_type": "display_data"
    }
   ],
   "source": [
    "# Ratio of 'Major Group' to US civilian labour force (employed)\n",
    "\n",
    "plt.figure(figsize=(12, 8))\n",
    "fig = pd.Series((major_sum_arr/total_employed_arr).reshape(11,)).plot(kind='bar')\n",
    "fig.set_xticklabels(year)\n",
    "fig.bar_label(fig.containers[0], label_type='edge')\n",
    "fig.set_title('Ratio of \\'Major Group\\' to US civilian labour force (employed)')\n",
    "fig.set_xlabel('Year')\n",
    "fig.set_ylabel('Ratio')"
   ]
  },
  {
   "cell_type": "code",
   "execution_count": 93,
   "metadata": {},
   "outputs": [
    {
     "data": {
      "text/plain": [
       "Text(0, 0.5, 'Ratio')"
      ]
     },
     "execution_count": 93,
     "metadata": {},
     "output_type": "execute_result"
    },
    {
     "data": {
      "image/png": "[encoded data removed]",
      "text/plain": [
       "<Figure size 864x576 with 1 Axes>"
      ]
     },
     "metadata": {
      "needs_background": "light"
     },
     "output_type": "display_data"
    }
   ],
   "source": [
    "# Ratio of 'Minor Group' to US civilian labour force\n",
    "\n",
    "minor=joint_processed[(joint_processed['Minor Group']!='-')&(joint_processed['Broad Group']=='-')&(joint_processed['Detailed Occupation']=='-')]\n",
    "minor_sum=minor.groupby(['Year']).sum()\n",
    "minor_sum_arr=minor_sum['Total'].to_numpy()\n",
    "\n",
    "minor_sum_arr=minor_sum_arr.reshape(-1,1)\n",
    "\n",
    "plt.figure(figsize=(12, 8))\n",
    "fig = pd.Series((minor_sum_arr/total_arr).reshape(11,)).plot(kind='bar')\n",
    "fig.set_xticklabels(year)\n",
    "fig.bar_label(fig.containers[0], label_type='edge')\n",
    "fig.set_title('Ratio of \\'Minor Group\\' to US civilian labour force')\n",
    "fig.set_xlabel('Year')\n",
    "fig.set_ylabel('Ratio')"
   ]
  },
  {
   "cell_type": "code",
   "execution_count": 95,
   "metadata": {},
   "outputs": [
    {
     "data": {
      "text/plain": [
       "Text(0, 0.5, 'Ratio')"
      ]
     },
     "execution_count": 95,
     "metadata": {},
     "output_type": "execute_result"
    },
    {
     "data": {
      "image/png": "[encoded data removed]",
      "text/plain": [
       "<Figure size 864x576 with 1 Axes>"
      ]
     },
     "metadata": {
      "needs_background": "light"
     },
     "output_type": "display_data"
    }
   ],
   "source": [
    "# Ratio of 'Minor Group' to US civilian labour force (employed)\n",
    "\n",
    "plt.figure(figsize=(12, 8))\n",
    "fig = pd.Series((minor_sum_arr/total_employed_arr).reshape(11,)).plot(kind='bar')\n",
    "fig.set_xticklabels(year)\n",
    "fig.bar_label(fig.containers[0], label_type='edge')\n",
    "fig.set_title('Ratio of \\'Minor Group\\' to US civilian labour force (employed)')\n",
    "fig.set_xlabel('Year')\n",
    "fig.set_ylabel('Ratio')"
   ]
  },
  {
   "cell_type": "code",
   "execution_count": 98,
   "metadata": {},
   "outputs": [
    {
     "data": {
      "text/plain": [
       "Text(0, 0.5, 'Ratio')"
      ]
     },
     "execution_count": 98,
     "metadata": {},
     "output_type": "execute_result"
    },
    {
     "data": {
      "image/png": "[encoded data removed]",
      "text/plain": [
       "<Figure size 864x576 with 1 Axes>"
      ]
     },
     "metadata": {
      "needs_background": "light"
     },
     "output_type": "display_data"
    }
   ],
   "source": [
    "# Ratio of 'Broad Group' to US civilian labour force\n",
    "\n",
    "broad=joint_processed[(joint_processed['Minor Group']!='-')&(joint_processed['Broad Group']!='-')&(joint_processed['Detailed Occupation']=='-')]\n",
    "broad_sum=broad.groupby(['Year']).sum()\n",
    "broad_sum_arr=broad_sum['Total'].to_numpy()\n",
    "\n",
    "broad_sum_arr=broad_sum_arr.reshape(-1,1)\n",
    "\n",
    "plt.figure(figsize=(12, 8))\n",
    "fig = pd.Series((broad_sum_arr/total_arr).reshape(11,)).plot(kind='bar')\n",
    "fig.set_xticklabels(year)\n",
    "fig.bar_label(fig.containers[0], label_type='edge')\n",
    "fig.set_title('Ratio of \\'Broad Group\\' to US civilian labour force')\n",
    "fig.set_xlabel('Year')\n",
    "fig.set_ylabel('Ratio')"
   ]
  },
  {
   "cell_type": "code",
   "execution_count": 97,
   "metadata": {},
   "outputs": [
    {
     "data": {
      "text/plain": [
       "Text(0, 0.5, 'Ratio')"
      ]
     },
     "execution_count": 97,
     "metadata": {},
     "output_type": "execute_result"
    },
    {
     "data": {
      "image/png": "[encoded data removed]",
      "text/plain": [
       "<Figure size 864x576 with 1 Axes>"
      ]
     },
     "metadata": {
      "needs_background": "light"
     },
     "output_type": "display_data"
    }
   ],
   "source": [
    "# Ratio of 'Broad Group' to US civilian labour force (employed)\n",
    "\n",
    "plt.figure(figsize=(12, 8))\n",
    "fig = pd.Series((broad_sum_arr/total_employed_arr).reshape(11,)).plot(kind='bar')\n",
    "fig.set_xticklabels(year)\n",
    "fig.bar_label(fig.containers[0], label_type='edge')\n",
    "fig.set_title('Ratio of \\'Broad Group\\' to US civilian labour force (employed)')\n",
    "fig.set_xlabel('Year')\n",
    "fig.set_ylabel('Ratio')"
   ]
  },
  {
   "cell_type": "code",
   "execution_count": 768,
   "metadata": {},
   "outputs": [],
   "source": [
    "young=joint_processed.iloc[:,2:7].sum(axis=1)\n",
    "old=joint_processed['65<=']\n",
    "\n",
    "ratio=old/young\n",
    "ratio=pd.concat([joint_processed[['Occupation','Year','Major Group','Minor Group','Broad Group','Detailed Occupation']],ratio],axis=1)\n",
    "ratio=ratio.rename(columns={0:'Ratio'})\n",
    "ratio_major = ratio[(ratio['Minor Group']=='-')&(joint_processed['Broad Group']=='-')&(joint_processed['Detailed Occupation']=='-')]"
   ]
  },
  {
   "cell_type": "code",
   "execution_count": 775,
   "metadata": {},
   "outputs": [
    {
     "data": {
      "text/plain": [
       "[<matplotlib.lines.Line2D at 0x7f79b11a9d00>]"
      ]
     },
     "execution_count": 775,
     "metadata": {},
     "output_type": "execute_result"
    },
    {
     "data": {
      "image/png": "[encoded data removed]",
      "text/plain": [
       "<Figure size 432x288 with 1 Axes>"
      ]
     },
     "metadata": {
      "needs_background": "light"
     },
     "output_type": "display_data"
    }
   ],
   "source": [
    "ratio_major_mean=ratio_major.loc[ratio['Ratio']!=np.inf,['Year','Ratio']].groupby('Year').agg('mean')     # Note than certain ratios are inf because those occupations have zero young people; need to filter them out first\n",
    "plt.plot(ratio_major_mean)      # Change in ratio over Major Groups over the years"
   ]
  },
  {
   "cell_type": "code",
   "execution_count": 774,
   "metadata": {},
   "outputs": [
    {
     "data": {
      "text/plain": [
       "[<matplotlib.lines.Line2D at 0x7f7980189850>]"
      ]
     },
     "execution_count": 774,
     "metadata": {},
     "output_type": "execute_result"
    },
    {
     "data": {
      "image/png": "[encoded data removed]",
      "text/plain": [
       "<Figure size 432x288 with 1 Axes>"
      ]
     },
     "metadata": {
      "needs_background": "light"
     },
     "output_type": "display_data"
    }
   ],
   "source": [
    "ratio_detailed=ratio[ratio['Detailed Occupation']!='-']\n",
    "ratio_detailed_mean=ratio_detailed.loc[ratio['Ratio']!=np.inf,['Year','Ratio']].groupby('Year').agg('mean')     # Note than certain ratios are inf because those occupations have zero young people; need to filter them out first\n",
    "plt.plot(ratio_detailed_mean)      # Change in ratio over Detailed Occupations over the years\n"
   ]
  },
  {
   "cell_type": "code",
   "execution_count": 776,
   "metadata": {},
   "outputs": [],
   "source": [
    "# ratio[ratio['Ratio']==np.inf]"
   ]
  },
  {
   "cell_type": "code",
   "execution_count": 806,
   "metadata": {},
   "outputs": [
    {
     "data": {
      "text/plain": [
       "Text(0.5, 1.0, 'Percentage change of ratio from 2011 to 2021 among Major Groups')"
      ]
     },
     "execution_count": 806,
     "metadata": {},
     "output_type": "execute_result"
    },
    {
     "data": {
      "image/png": "[encoded data removed]",
      "text/plain": [
       "<Figure size 432x288 with 1 Axes>"
      ]
     },
     "metadata": {
      "needs_background": "light"
     },
     "output_type": "display_data"
    }
   ],
   "source": [
    "ratio_two_years=ratio_major[(ratio_major['Year']==2021)|(ratio_major['Year']==2011)]\n",
    "ratio_2011=ratio_two_years.loc[ratio_two_years['Year']==2011,'Ratio'].to_numpy()\n",
    "ratio_2021=ratio_two_years.loc[ratio_two_years['Year']==2021,'Ratio'].to_numpy()\n",
    "\n",
    "plt.barh(ratio_two_years.drop_duplicates('Occupation')['Occupation'],(ratio_2021-ratio_2011)/ratio_2011)\n",
    "plt.title('Percentage change of ratio from 2011 to 2021 among Major Groups')        # Percentage change of ratio from 2011 to 2021 among Major Groups"
   ]
  },
  {
   "cell_type": "code",
   "execution_count": null,
   "metadata": {},
   "outputs": [],
   "source": []
  },
  {
   "cell_type": "code",
   "execution_count": null,
   "metadata": {},
   "outputs": [],
   "source": []
  },
  {
   "cell_type": "code",
   "execution_count": null,
   "metadata": {},
   "outputs": [],
   "source": []
  },
  {
   "cell_type": "code",
   "execution_count": 12,
   "metadata": {},
   "outputs": [
    {
     "data": {
      "text/html": [
       "<div>\n",
       "<style scoped>\n",
       "    .dataframe tbody tr th:only-of-type {\n",
       "        vertical-align: middle;\n",
       "    }\n",
       "\n",
       "    .dataframe tbody tr th {\n",
       "        vertical-align: top;\n",
       "    }\n",
       "\n",
       "    .dataframe thead th {\n",
       "        text-align: right;\n",
       "    }\n",
       "</style>\n",
       "<table border=\"1\" class=\"dataframe\">\n",
       "  <thead>\n",
       "    <tr style=\"text-align: right;\">\n",
       "      <th></th>\n",
       "      <th>Occupation</th>\n",
       "      <th>Total</th>\n",
       "      <th>16-19</th>\n",
       "      <th>20-24</th>\n",
       "      <th>25-34</th>\n",
       "      <th>35-44</th>\n",
       "      <th>45-54</th>\n",
       "      <th>55-64</th>\n",
       "      <th>65&lt;=</th>\n",
       "      <th>Median age</th>\n",
       "      <th>Year</th>\n",
       "    </tr>\n",
       "  </thead>\n",
       "  <tbody>\n",
       "    <tr>\n",
       "      <th>0</th>\n",
       "      <td>management, professional, and related occupations</td>\n",
       "      <td>64744.0</td>\n",
       "      <td>420.0</td>\n",
       "      <td>3267.0</td>\n",
       "      <td>15222.0</td>\n",
       "      <td>15625.0</td>\n",
       "      <td>14238.0</td>\n",
       "      <td>11394.0</td>\n",
       "      <td>4579.0</td>\n",
       "      <td>43.8</td>\n",
       "      <td>2021</td>\n",
       "    </tr>\n",
       "    <tr>\n",
       "      <th>1</th>\n",
       "      <td>management, business, and financial operations...</td>\n",
       "      <td>27864.0</td>\n",
       "      <td>100.0</td>\n",
       "      <td>1052.0</td>\n",
       "      <td>5726.0</td>\n",
       "      <td>6783.0</td>\n",
       "      <td>6603.0</td>\n",
       "      <td>5411.0</td>\n",
       "      <td>2189.0</td>\n",
       "      <td>45.5</td>\n",
       "      <td>2021</td>\n",
       "    </tr>\n",
       "    <tr>\n",
       "      <th>2</th>\n",
       "      <td>management occupations</td>\n",
       "      <td>18986.0</td>\n",
       "      <td>74.0</td>\n",
       "      <td>573.0</td>\n",
       "      <td>3413.0</td>\n",
       "      <td>4728.0</td>\n",
       "      <td>4704.0</td>\n",
       "      <td>3863.0</td>\n",
       "      <td>1630.0</td>\n",
       "      <td>46.5</td>\n",
       "      <td>2021</td>\n",
       "    </tr>\n",
       "    <tr>\n",
       "      <th>3</th>\n",
       "      <td>chief executives</td>\n",
       "      <td>1664.0</td>\n",
       "      <td>1.0</td>\n",
       "      <td>4.0</td>\n",
       "      <td>157.0</td>\n",
       "      <td>388.0</td>\n",
       "      <td>446.0</td>\n",
       "      <td>464.0</td>\n",
       "      <td>204.0</td>\n",
       "      <td>51.6</td>\n",
       "      <td>2021</td>\n",
       "    </tr>\n",
       "    <tr>\n",
       "      <th>4</th>\n",
       "      <td>general and operations managers</td>\n",
       "      <td>1085.0</td>\n",
       "      <td>2.0</td>\n",
       "      <td>30.0</td>\n",
       "      <td>258.0</td>\n",
       "      <td>303.0</td>\n",
       "      <td>272.0</td>\n",
       "      <td>173.0</td>\n",
       "      <td>47.0</td>\n",
       "      <td>43.4</td>\n",
       "      <td>2021</td>\n",
       "    </tr>\n",
       "    <tr>\n",
       "      <th>...</th>\n",
       "      <td>...</td>\n",
       "      <td>...</td>\n",
       "      <td>...</td>\n",
       "      <td>...</td>\n",
       "      <td>...</td>\n",
       "      <td>...</td>\n",
       "      <td>...</td>\n",
       "      <td>...</td>\n",
       "      <td>...</td>\n",
       "      <td>...</td>\n",
       "      <td>...</td>\n",
       "    </tr>\n",
       "    <tr>\n",
       "      <th>6259</th>\n",
       "      <td>pumping station operators</td>\n",
       "      <td>21.0</td>\n",
       "      <td>0.0</td>\n",
       "      <td>3.0</td>\n",
       "      <td>6.0</td>\n",
       "      <td>4.0</td>\n",
       "      <td>3.0</td>\n",
       "      <td>5.0</td>\n",
       "      <td>0.0</td>\n",
       "      <td>-</td>\n",
       "      <td>2011</td>\n",
       "    </tr>\n",
       "    <tr>\n",
       "      <th>6260</th>\n",
       "      <td>refuse and recyclable material collectors</td>\n",
       "      <td>92.0</td>\n",
       "      <td>2.0</td>\n",
       "      <td>12.0</td>\n",
       "      <td>22.0</td>\n",
       "      <td>16.0</td>\n",
       "      <td>24.0</td>\n",
       "      <td>12.0</td>\n",
       "      <td>4.0</td>\n",
       "      <td>41.3</td>\n",
       "      <td>2011</td>\n",
       "    </tr>\n",
       "    <tr>\n",
       "      <th>6261</th>\n",
       "      <td>mine shuttle car operators</td>\n",
       "      <td>1.0</td>\n",
       "      <td>0.0</td>\n",
       "      <td>0.0</td>\n",
       "      <td>0.0</td>\n",
       "      <td>0.0</td>\n",
       "      <td>0.0</td>\n",
       "      <td>1.0</td>\n",
       "      <td>0.0</td>\n",
       "      <td>-</td>\n",
       "      <td>2011</td>\n",
       "    </tr>\n",
       "    <tr>\n",
       "      <th>6262</th>\n",
       "      <td>tank car, truck, and ship loaders</td>\n",
       "      <td>3.0</td>\n",
       "      <td>0.0</td>\n",
       "      <td>0.0</td>\n",
       "      <td>0.0</td>\n",
       "      <td>0.0</td>\n",
       "      <td>2.0</td>\n",
       "      <td>0.0</td>\n",
       "      <td>0.0</td>\n",
       "      <td>-</td>\n",
       "      <td>2011</td>\n",
       "    </tr>\n",
       "    <tr>\n",
       "      <th>6263</th>\n",
       "      <td>material moving workers, all other</td>\n",
       "      <td>62.0</td>\n",
       "      <td>3.0</td>\n",
       "      <td>7.0</td>\n",
       "      <td>6.0</td>\n",
       "      <td>19.0</td>\n",
       "      <td>12.0</td>\n",
       "      <td>13.0</td>\n",
       "      <td>2.0</td>\n",
       "      <td>43.1</td>\n",
       "      <td>2011</td>\n",
       "    </tr>\n",
       "  </tbody>\n",
       "</table>\n",
       "<p>6264 rows × 11 columns</p>\n",
       "</div>"
      ],
      "text/plain": [
       "                                             Occupation    Total  16-19  \\\n",
       "0     management, professional, and related occupations  64744.0  420.0   \n",
       "1     management, business, and financial operations...  27864.0  100.0   \n",
       "2                                management occupations  18986.0   74.0   \n",
       "3                                      chief executives   1664.0    1.0   \n",
       "4                       general and operations managers   1085.0    2.0   \n",
       "...                                                 ...      ...    ...   \n",
       "6259                          pumping station operators     21.0    0.0   \n",
       "6260          refuse and recyclable material collectors     92.0    2.0   \n",
       "6261                         mine shuttle car operators      1.0    0.0   \n",
       "6262                  tank car, truck, and ship loaders      3.0    0.0   \n",
       "6263                 material moving workers, all other     62.0    3.0   \n",
       "\n",
       "       20-24    25-34    35-44    45-54    55-64    65<= Median age  Year  \n",
       "0     3267.0  15222.0  15625.0  14238.0  11394.0  4579.0       43.8  2021  \n",
       "1     1052.0   5726.0   6783.0   6603.0   5411.0  2189.0       45.5  2021  \n",
       "2      573.0   3413.0   4728.0   4704.0   3863.0  1630.0       46.5  2021  \n",
       "3        4.0    157.0    388.0    446.0    464.0   204.0       51.6  2021  \n",
       "4       30.0    258.0    303.0    272.0    173.0    47.0       43.4  2021  \n",
       "...      ...      ...      ...      ...      ...     ...        ...   ...  \n",
       "6259     3.0      6.0      4.0      3.0      5.0     0.0          -  2011  \n",
       "6260    12.0     22.0     16.0     24.0     12.0     4.0       41.3  2011  \n",
       "6261     0.0      0.0      0.0      0.0      1.0     0.0          -  2011  \n",
       "6262     0.0      0.0      0.0      2.0      0.0     0.0          -  2011  \n",
       "6263     7.0      6.0     19.0     12.0     13.0     2.0       43.1  2011  \n",
       "\n",
       "[6264 rows x 11 columns]"
      ]
     },
     "execution_count": 12,
     "metadata": {},
     "output_type": "execute_result"
    }
   ],
   "source": [
    "df"
   ]
  },
  {
   "cell_type": "code",
   "execution_count": 78,
   "metadata": {},
   "outputs": [
    {
     "data": {
      "text/plain": [
       "array([[153617],\n",
       "       [154975],\n",
       "       [155389],\n",
       "       [155922],\n",
       "       [157130],\n",
       "       [159187],\n",
       "       [160320],\n",
       "       [162075],\n",
       "       [163539],\n",
       "       [160742],\n",
       "       [161204]])"
      ]
     },
     "execution_count": 78,
     "metadata": {},
     "output_type": "execute_result"
    }
   ],
   "source": [
    "total_arr"
   ]
  },
  {
   "cell_type": "code",
   "execution_count": 76,
   "metadata": {},
   "outputs": [],
   "source": [
    "total_arr=np.array([[153617,154975,155389,155922,157130,159187,160320,162075,163539,160742,161204]]).reshape((11,1))"
   ]
  },
  {
   "cell_type": "code",
   "execution_count": null,
   "metadata": {},
   "outputs": [],
   "source": []
  }
 ],
 "metadata": {
  "kernelspec": {
   "display_name": "Python 3.8.8 ('base')",
   "language": "python",
   "name": "python3"
  },
  "language_info": {
   "codemirror_mode": {
    "name": "ipython",
    "version": 3
   },
   "file_extension": ".py",
   "mimetype": "text/x-python",
   "name": "python",
   "nbconvert_exporter": "python",
   "pygments_lexer": "ipython3",
   "version": "3.8.8"
  },
  "orig_nbformat": 4,
  "vscode": {
   "interpreter": {
    "hash": "e0f300f501840c250db98b6282f016671bffbcd4595f9d980ec8181bf2e3484d"
   }
  }
 },
 "nbformat": 4,
 "nbformat_minor": 2
}
